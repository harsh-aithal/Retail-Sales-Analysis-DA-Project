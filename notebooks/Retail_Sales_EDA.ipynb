{
 "cells": [
  {
   "cell_type": "markdown",
   "id": "116a5783-4416-4c4b-8dcd-95b3c2e251be",
   "metadata": {},
   "source": [
    "# Retail Sales Data Analysis - Data Analyst Project\n",
    "This notebook focuses on analyzing retail sales data and deriving insights to make strategic business recommendations. The dataset contains information on sales, product categories, and customer demographics."
   ]
  },
  {
   "cell_type": "markdown",
   "id": "624b3414-6c88-4158-8da2-9d7129f6cca7",
   "metadata": {},
   "source": [
    "## Phase 1: Importing Libraries\n",
    "We begin by importing the essential Python libraries required for data analysis:"
   ]
  },
  {
   "cell_type": "markdown",
   "id": "5dd947d8-67a3-48d9-bc0a-eba9880b192a",
   "metadata": {},
   "source": [
    "### Step 1: Importing libraries"
   ]
  },
  {
   "cell_type": "code",
   "execution_count": null,
   "id": "a05a6ac3-5cb0-4adc-a188-cf2ac5b1cc38",
   "metadata": {},
   "outputs": [],
   "source": [
    "!pip install pandas numpy matplotlib seaborn\n",
    "\n",
    "import pandas as pd\n",
    "import numpy as np\n",
    "import matplotlib.pyplot as plt\n",
    "import seaborn as sns"
   ]
  },
  {
   "cell_type": "markdown",
   "id": "31e60e35-f771-4b55-825f-b89411eaa1bf",
   "metadata": {},
   "source": [
    "## Phase 2: Loading the Dataset\n",
    "We load the dataset from a CSV file using pd.read_csv() and store it in a variable called df."
   ]
  },
  {
   "cell_type": "markdown",
   "id": "9e4937c7-80b6-4e37-9d2c-a7116d39ec01",
   "metadata": {},
   "source": [
    "### Step 2: Load the Excel files"
   ]
  },
  {
   "cell_type": "code",
   "execution_count": null,
   "id": "71518feb-c169-444a-bbf2-fdfb1a47749a",
   "metadata": {},
   "outputs": [],
   "source": [
    "url = 'https://raw.githubusercontent.com/harsh-aithal/Retail-Sales-Analysis-DA-Project/main/data/superstore_data.csv'\n",
    "df = pd.read_csv(url, encoding = 'ISO-8859-1')"
   ]
  },
  {
   "cell_type": "markdown",
   "id": "bdb05110-d390-4f4a-ba18-9744be4f795d",
   "metadata": {},
   "source": [
    "## Phase 3: Initial Data Exploration (Steps 3–10)"
   ]
  },
  {
   "cell_type": "markdown",
   "id": "3d0535b1-96bb-4ce0-a116-542dc1b32731",
   "metadata": {},
   "source": [
    "### Step 3: View First Few Rows\n",
    "Used df.head() to get a quick preview of the data and understand its structure."
   ]
  },
  {
   "cell_type": "code",
   "execution_count": null,
   "id": "be29a615-b085-474e-a269-6280d476386a",
   "metadata": {},
   "outputs": [],
   "source": [
    "df.head()"
   ]
  },
  {
   "cell_type": "markdown",
   "id": "2d654539-bf56-428c-beb4-60bdbc2e0257",
   "metadata": {},
   "source": [
    "### Step 4: Check Data Info\n",
    "df.info() shows:\n",
    "- 9994 entries\n",
    "- 21 columns\n",
    "- No null values\n",
    "- Data types are mostly object, int, and float."
   ]
  },
  {
   "cell_type": "code",
   "execution_count": null,
   "id": "150627f6-a126-43ce-9746-e2a0b369839f",
   "metadata": {},
   "outputs": [],
   "source": [
    "df.info()"
   ]
  },
  {
   "cell_type": "markdown",
   "id": "0466ed53-ebbc-454f-992f-bce9de87461b",
   "metadata": {},
   "source": [
    "### Step 5: Statistical Summary\n",
    "df.describe() gives a numerical summary of key fields like Sales, Quantity, Discount, and Profit."
   ]
  },
  {
   "cell_type": "code",
   "execution_count": null,
   "id": "5b1b7eca-6d48-4c36-b991-6e72cf291467",
   "metadata": {
    "scrolled": true
   },
   "outputs": [],
   "source": [
    "df.describe()"
   ]
  },
  {
   "cell_type": "markdown",
   "id": "008fbe3d-71e8-44d4-8470-921cd5cfb596",
   "metadata": {},
   "source": [
    "### Step 6: Null Value Check\n",
    "df.isnull().sum() confirms there are no missing values in the dataset."
   ]
  },
  {
   "cell_type": "code",
   "execution_count": null,
   "id": "dee0ab13-67cf-49b0-8000-d001285096e4",
   "metadata": {},
   "outputs": [],
   "source": [
    "df.isnull().sum()"
   ]
  },
  {
   "cell_type": "markdown",
   "id": "b717ce57-fb38-4920-a83c-10b8694b6007",
   "metadata": {},
   "source": [
    "### Step 7: Check for Duplicates\n",
    "df.duplicated().sum() shows there are 0 duplicate rows."
   ]
  },
  {
   "cell_type": "code",
   "execution_count": null,
   "id": "51e14622-3e5c-4cd5-b1a6-b459fe152296",
   "metadata": {},
   "outputs": [],
   "source": [
    "df.duplicated().sum()"
   ]
  },
  {
   "cell_type": "markdown",
   "id": "232e8f73-5722-4a7f-afc0-bfde99e0ab1b",
   "metadata": {},
   "source": [
    "### Step 8: Unique Category Check\n",
    "Using df['Category'].unique(), we examined the different product categories present in the dataset."
   ]
  },
  {
   "cell_type": "code",
   "execution_count": null,
   "id": "cce95781-7035-4f30-8c63-00e48ae606bc",
   "metadata": {},
   "outputs": [],
   "source": [
    "df['Category'].unique()"
   ]
  },
  {
   "cell_type": "markdown",
   "id": "b7c6560b-c6ab-4c0c-9101-0f9fe26ddb26",
   "metadata": {},
   "source": [
    "### Step 9: Unique Sub-Category Check\n",
    "Using df['Sub-Category'].unique(), we checked the different sub-categories present."
   ]
  },
  {
   "cell_type": "code",
   "execution_count": null,
   "id": "15fa651c-c368-4865-a79a-b4b2464c94b8",
   "metadata": {},
   "outputs": [],
   "source": [
    "df['Sub-Category'].unique()"
   ]
  },
  {
   "cell_type": "markdown",
   "id": "09c7e0ff-fd66-403c-8411-3cad92756883",
   "metadata": {},
   "source": [
    "### Step 10: Unique Region Check\n",
    "We checked for the unique regions."
   ]
  },
  {
   "cell_type": "code",
   "execution_count": null,
   "id": "a0bd524c-6f90-4dae-af25-56b998ee5951",
   "metadata": {},
   "outputs": [],
   "source": [
    "df['Region'].unique()"
   ]
  },
  {
   "cell_type": "markdown",
   "id": "023a2fc3-bc0e-4f44-961a-43194e9193f1",
   "metadata": {},
   "source": [
    "## Phase 4: Data Visualization"
   ]
  },
  {
   "cell_type": "markdown",
   "id": "0b75f5c3-1ace-4900-b823-113b2b6b641e",
   "metadata": {},
   "source": [
    "### Step 11: Visualizing Sales by Category\n",
    "We create a bar plot to visualize total sales by each product category."
   ]
  },
  {
   "cell_type": "code",
   "execution_count": null,
   "id": "eeea495a-4c06-4247-b081-3c8ee003af3e",
   "metadata": {},
   "outputs": [],
   "source": [
    "category_group = df.groupby('Category')[['Sales','Profit']].sum().reset_index()\n",
    "plt.figure(figsize = (10,5))\n",
    "sns.barplot(x = 'Category', y = 'Sales', hue = 'Category', data = category_group, palette = 'Blues_d', legend = False)\n",
    "plt.title('Total Sales by Category')\n",
    "plt.xlabel('Category')\n",
    "plt.ylabel('Sales')\n",
    "plt.tight_layout()\n",
    "plt.show()"
   ]
  },
  {
   "cell_type": "markdown",
   "id": "c1649b86-b84a-4246-9b2a-4da7b2f19010",
   "metadata": {},
   "source": [
    "### Step 12: Visualizing Profit by Category\n",
    "Now, we create another bar plot to visualize total profit by each product category."
   ]
  },
  {
   "cell_type": "code",
   "execution_count": null,
   "id": "f535c903-4cf5-4282-b091-a6f7a1ce30ea",
   "metadata": {},
   "outputs": [],
   "source": [
    "plt.figure(figsize = (10,5))\n",
    "sns.barplot(x = 'Category', y = 'Profit', hue = 'Category', data = category_group, palette = 'Greens_d', legend = False)\n",
    "plt.title('Total Profit by Category')\n",
    "plt.xlabel('Category')\n",
    "plt.ylabel('Profit')\n",
    "plt.tight_layout()\n",
    "plt.show()"
   ]
  },
  {
   "cell_type": "markdown",
   "id": "e0275d80-4843-495a-80c0-ecb98d14efcb",
   "metadata": {},
   "source": [
    "### Step 13: Total Sales by Sub-Category\n",
    "We group the data by Sub-Category and calculate total sales. Then we plot a bar graph to visualize which sub-categories are generating the most revenue."
   ]
  },
  {
   "cell_type": "code",
   "execution_count": null,
   "id": "d3668760-e372-452b-8dfb-12aaee31b31d",
   "metadata": {},
   "outputs": [],
   "source": [
    "subcategory_group = df.groupby('Sub-Category')[['Sales','Profit']].sum().sort_values(by = 'Sales', ascending=False).reset_index()\n",
    "\n",
    "plt.figure(figsize = (12,6))\n",
    "sns.barplot(x = 'Sub-Category', y = 'Sales', hue = 'Sub-Category', data = subcategory_group, palette = 'Purples_d', legend = False)\n",
    "plt.xticks(rotation = 45)\n",
    "plt.title('Total Sales by Sub-Category')\n",
    "plt.xlabel('Sub-Category')\n",
    "plt.ylabel('Sales')\n",
    "plt.show()"
   ]
  },
  {
   "cell_type": "markdown",
   "id": "4e6d96a7-feac-4e27-a2a0-64a8302272cd",
   "metadata": {},
   "source": [
    "### Step 14: Total Profit by Sub-Category\n",
    "Using the same grouped data, we now visualize profit across sub-categories to see which ones are contributing the most to the bottom line."
   ]
  },
  {
   "cell_type": "code",
   "execution_count": null,
   "id": "11e1bb34-daed-4351-8558-ec999d5cd6da",
   "metadata": {},
   "outputs": [],
   "source": [
    "plt.figure(figsize = (12,6))\n",
    "sns.barplot(x = 'Sub-Category', y = 'Profit', hue = 'Sub-Category', data = subcategory_group, palette = 'RdYlGn', legend = False)\n",
    "plt.xticks(rotation = 45)\n",
    "plt.title('Total Profit by Sub-Category')\n",
    "plt.xlabel('Sub-Category')\n",
    "plt.ylabel('Profit')\n",
    "plt.show()"
   ]
  },
  {
   "cell_type": "markdown",
   "id": "bf68d555-4e80-424c-b9ef-7ff1e1a2c9c5",
   "metadata": {},
   "source": [
    "### Step 15: Sales and Profit by Region\n",
    "We group the data by Region and sum up both Sales and Profit. This bar chart compares the two metrics side by side to identify regional performance."
   ]
  },
  {
   "cell_type": "code",
   "execution_count": null,
   "id": "4bfef67a-a1ed-4b01-85b6-aa4a48997975",
   "metadata": {},
   "outputs": [],
   "source": [
    "region_group = df.groupby('Region')[['Sales','Profit']].sum().reset_index()\n",
    "\n",
    "region_group.plot(x = 'Region', kind = 'bar', figsize = (8,5), color = ['skyblue', 'salmon'])\n",
    "plt.title('Sales and Profit by Region')\n",
    "plt.xlabel('Region')\n",
    "plt.ylabel('Amount')\n",
    "plt.xticks(rotation = 0)\n",
    "plt.legend(['Sales','Profit'])\n",
    "plt.tight_layout()\n",
    "plt.show()"
   ]
  },
  {
   "cell_type": "markdown",
   "id": "a5ac9eb2-8cdd-4086-abb5-f763faf9d0c1",
   "metadata": {},
   "source": [
    "### Step 16: Top 10 States by Profit\n",
    "We identify the top 10 states with the highest total profit and visualize them using a horizontal bar plot."
   ]
  },
  {
   "cell_type": "code",
   "execution_count": null,
   "id": "360b6ab1-c728-4e4a-a7f5-29b2decf72be",
   "metadata": {},
   "outputs": [],
   "source": [
    "top_states = df.groupby('State')['Profit'].sum().sort_values(ascending = False).head(10)\n",
    "\n",
    "plt.figure(figsize = (10,6))\n",
    "sns.barplot(x = top_states.values, y = top_states.index, hue = top_states.index, palette = 'viridis', legend = False)\n",
    "plt.title('Top 10 States by Profit')\n",
    "plt.xlabel('Profit')\n",
    "plt.ylabel('States')\n",
    "plt.tight_layout()\n",
    "plt.show()"
   ]
  },
  {
   "cell_type": "markdown",
   "id": "292bcab5-553f-4bc3-bd09-6076b24c7d75",
   "metadata": {},
   "source": [
    "### Step 17: Bottom 10 States by Profit\n",
    "Here, we focus on the 10 least profitable states to understand which regions might be underperforming or incurring losses."
   ]
  },
  {
   "cell_type": "code",
   "execution_count": null,
   "id": "5bbdd2e4-b06a-46b4-b208-92d5d836a15b",
   "metadata": {},
   "outputs": [],
   "source": [
    "bottom_states = df.groupby('State')['Profit'].sum().sort_values().head(10)\n",
    "\n",
    "plt.figure(figsize = (10,6))\n",
    "sns.barplot(x = bottom_states.values, y = bottom_states.index, hue = bottom_states.index, palette = 'magma', legend = False)\n",
    "plt.title('Bottom 10 States by Profit')\n",
    "plt.xlabel('Profit')\n",
    "plt.ylabel('States')\n",
    "plt.tight_layout()\n",
    "plt.show()"
   ]
  },
  {
   "cell_type": "markdown",
   "id": "c6dbe966-3349-418b-881a-6a6cb94a5ec8",
   "metadata": {},
   "source": [
    "### Step 18: Visualizing Profit by Sub-Category\n",
    "\n",
    "We group the data by Sub-Category and calculate total profit for each. Then, we visualize the results using a bar plot to identify which sub-categories are most and least profitable."
   ]
  },
  {
   "cell_type": "code",
   "execution_count": null,
   "id": "3262aa8b-ecc4-40f7-aee4-0a423df7db4e",
   "metadata": {},
   "outputs": [],
   "source": [
    "subcat_profit = df.groupby('Sub-Category')['Profit'].sum().sort_values()\n",
    "\n",
    "# Plotting\n",
    "plt.figure(figsize = (12, 6))\n",
    "sns.barplot(x = subcat_profit.index, y = subcat_profit.values, hue = subcat_profit.index, palette = 'coolwarm')\n",
    "plt.title('Profit by Sub-Category')\n",
    "plt.xlabel('Sub-Category')\n",
    "plt.ylabel('Total Profit')\n",
    "plt.xticks(rotation = 45)\n",
    "plt.tight_layout()\n",
    "plt.show()"
   ]
  },
  {
   "cell_type": "markdown",
   "id": "54238e84-cf86-47ae-a4fd-c6222c9559f1",
   "metadata": {},
   "source": [
    "### Step 19: Analyzing the Relationship Between Discount and Profit\n",
    "\n",
    "We use a scatter plot to visualize how discount impacts profit across different categories. The horizontal line at 0 helps in identifying where profit turns into a loss."
   ]
  },
  {
   "cell_type": "code",
   "execution_count": null,
   "id": "f928f810-732e-4084-abcd-9a9ed1584fc0",
   "metadata": {},
   "outputs": [],
   "source": [
    "plt.figure(figsize = (10, 6))\n",
    "sns.scatterplot(x = 'Discount', y = 'Profit', data = df, hue = 'Category', palette = 'Set2')\n",
    "plt.title('Discount vs Profit')\n",
    "plt.xlabel('Discount')\n",
    "plt.ylabel('Profit')\n",
    "plt.axhline(0, color = 'gray', linestyle = '--')\n",
    "plt.tight_layout()\n",
    "plt.show()"
   ]
  },
  {
   "cell_type": "markdown",
   "id": "defb7a98-a17e-459f-8f2a-5e915717eb59",
   "metadata": {},
   "source": [
    "### Step 20: Exploring the Relationship Between Sales and Profit by Sub-Category\n",
    "\n",
    "Here, we use another scatter plot to see the relationship between sales and profit, broken down by sub-category. This helps us identify which sub-categories generate higher returns for the amount of sales they make."
   ]
  },
  {
   "cell_type": "code",
   "execution_count": null,
   "id": "1350481a-9adf-4e5a-907d-ec50790c378c",
   "metadata": {},
   "outputs": [],
   "source": [
    "plt.figure(figsize=(12, 6))\n",
    "sns.scatterplot(data = df, x = 'Sales', y = 'Profit', hue = 'Sub-Category', palette = 'tab10')\n",
    "plt.title('Sales vs Profit by Sub-Category')\n",
    "plt.xlabel('Sales')\n",
    "plt.ylabel('Profit')\n",
    "plt.axhline(0, color = 'gray', linestyle = '--')\n",
    "plt.tight_layout()\n",
    "plt.show()"
   ]
  },
  {
   "cell_type": "markdown",
   "id": "87d52300-996c-4dc7-81f5-8a295a43fea3",
   "metadata": {},
   "source": [
    "### Step 21: Correlation Heatmap\n",
    "We calculate and visualize the correlation between key numerical features: Sales, Profit, Quantity, and Discount. A heatmap allows us to quickly identify which features are strongly correlated."
   ]
  },
  {
   "cell_type": "code",
   "execution_count": null,
   "id": "0f430b42-9f11-4eab-b676-3d2727601d16",
   "metadata": {},
   "outputs": [],
   "source": [
    "# Calculate correlation matrix\n",
    "corr = df[['Sales', 'Profit', 'Quantity', 'Discount']].corr()\n",
    "\n",
    "# Plot heatmap\n",
    "plt.figure(figsize = (8, 6))\n",
    "sns.heatmap(corr, annot = True, cmap = 'coolwarm', fmt = '.2f', cbar = True)\n",
    "plt.title('Correlation Heatmap: Sales, Profit, Quantity, and Discount')\n",
    "plt.tight_layout()\n",
    "plt.show()"
   ]
  },
  {
   "cell_type": "markdown",
   "id": "6df8f0f7-c65c-4b18-a684-8b7c20eabadc",
   "metadata": {},
   "source": [
    "## Phase 5: Insights & Recommendations\n",
    "\n",
    "### Insights\n",
    "\n",
    "1. **Category-wise Sales and Profit:**\n",
    "   - The **Furniture** and **Technology** categories show high sales figures, with **Technology** also delivering the highest profit margins.\n",
    "   - The **Office Supplies** category, while having decent sales, shows lower profitability. This suggests that the margins in this category may need improvement through better cost management or a revision of pricing strategies.\n",
    "\n",
    "2. **Sub-Category Sales & Profit:**\n",
    "   - Sub-categories like **Chairs** and **Phones** show a good balance of high sales and high profits, making them key areas for strategic focus.\n",
    "   - **Binders** and **Storage**, while having decent sales, have relatively low profit margins, pointing towards potential issues with pricing or cost structure in these sub-categories.\n",
    "\n",
    "3. **Correlation Insights:**\n",
    "   - There is a positive correlation between **Sales** and **Profit**, which is consistent with expectations that higher sales should drive higher profits.\n",
    "   - **Quantity** shows a moderate negative correlation with **Profit**, suggesting that high volumes of low-cost items may not yield high profit margins.\n",
    "   - **Discount** appears to have little to no significant effect on **Profit**, which could indicate that the current discount strategy may not be effectively boosting profits.\n",
    "\n",
    "### Recommendations\n",
    "\n",
    "1. **Focus on High-Profit Categories:**\n",
    "   - Given the strong performance of **Technology** and **Furniture**, it would be beneficial to focus more on these categories for future growth. Consider increasing marketing efforts or introducing new products in these areas to drive more sales.\n",
    "\n",
    "2. **Improve Profitability in Office Supplies:**\n",
    "   - The **Office Supplies** category, despite decent sales, has relatively low profit margins. Strategies such as better cost management, product differentiation, or revised pricing could help improve margins.\n",
    "\n",
    "3. **Evaluate Discount Strategy:**\n",
    "   - Since **Discounts** have minimal effect on profits, it may be worth re-evaluating the discounting strategy. Consider testing alternative strategies such as bundling or offering loyalty incentives to drive more value.\n",
    "\n",
    "4. **Strategic Pricing for Low-Margin Items:**\n",
    "   - For low-margin sub-categories like **Binders** and **Storage**, consider re-evaluating the pricing strategy to improve profitability. Alternatively, exploring ways to reduce costs could help improve margins in these areas."
   ]
  }
 ],
 "metadata": {
  "kernelspec": {
   "display_name": "Python 3 (ipykernel)",
   "language": "python",
   "name": "python3"
  },
  "language_info": {
   "codemirror_mode": {
    "name": "ipython",
    "version": 3
   },
   "file_extension": ".py",
   "mimetype": "text/x-python",
   "name": "python",
   "nbconvert_exporter": "python",
   "pygments_lexer": "ipython3",
   "version": "3.12.9"
  }
 },
 "nbformat": 4,
 "nbformat_minor": 5
}
